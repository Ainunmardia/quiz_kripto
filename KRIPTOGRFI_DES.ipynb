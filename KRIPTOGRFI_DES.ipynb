{
  "nbformat": 4,
  "nbformat_minor": 0,
  "metadata": {
    "colab": {
      "provenance": []
    },
    "kernelspec": {
      "name": "python3",
      "display_name": "Python 3"
    },
    "language_info": {
      "name": "python"
    }
  },
  "cells": [
    {
      "cell_type": "code",
      "execution_count": 1,
      "metadata": {
        "colab": {
          "base_uri": "https://localhost:8080/"
        },
        "id": "AHdUYXHjtKzR",
        "outputId": "cf7a485b-64bd-4ab5-a99e-7da129626d4e"
      },
      "outputs": [
        {
          "output_type": "stream",
          "name": "stdout",
          "text": [
            "Collecting pycryptodome\n",
            "  Downloading pycryptodome-3.19.0-cp35-abi3-manylinux_2_17_x86_64.manylinux2014_x86_64.whl (2.1 MB)\n",
            "\u001b[2K     \u001b[90m━━━━━━━━━━━━━━━━━━━━━━━━━━━━━━━━━━━━━━━━\u001b[0m \u001b[32m2.1/2.1 MB\u001b[0m \u001b[31m11.8 MB/s\u001b[0m eta \u001b[36m0:00:00\u001b[0m\n",
            "\u001b[?25hInstalling collected packages: pycryptodome\n",
            "Successfully installed pycryptodome-3.19.0\n"
          ]
        }
      ],
      "source": [
        "pip install pycryptodome\n"
      ]
    },
    {
      "cell_type": "code",
      "source": [
        "from Crypto.Cipher import DES\n",
        "from Crypto.Random import get_random_bytes\n",
        "from Crypto.Util.Padding import pad, unpad\n",
        "\n",
        "def generate_key():\n",
        "    return get_random_bytes(8)\n",
        "\n",
        "def encrypt(plain_text, key):\n",
        "    cipher = DES.new(key, DES.MODE_ECB)\n",
        "    padded_text = pad(plain_text.encode('utf-8'), DES.block_size)\n",
        "    encrypted_text = cipher.encrypt(padded_text)\n",
        "    return encrypted_text\n",
        "\n",
        "def decrypt(encrypted_text, key):\n",
        "    cipher = DES.new(key, DES.MODE_ECB)\n",
        "    decrypted_text = cipher.decrypt(encrypted_text)\n",
        "    unpadded_text = unpad(decrypted_text, DES.block_size)\n",
        "    return unpadded_text.decode('utf-8')\n",
        "\n",
        "def main():\n",
        "    key = generate_key()\n",
        "\n",
        "    while True:\n",
        "        print(\"\\nMenu:\")\n",
        "        print(\"1. Enkripsi Teks\")\n",
        "        print(\"2. Unggah File dan Enkripsi\")\n",
        "        print(\"3. Unduh Hasil Enkripsi\")\n",
        "        print(\"4. Keluar\")\n",
        "\n",
        "        choice = input(\"Pilih menu (1/2/3/4): \")\n",
        "\n",
        "        if choice == '1':\n",
        "            plaintext = input(\"Masukkan teks yang akan dienkripsi: \")\n",
        "            encrypted_text = encrypt(plaintext, key)\n",
        "            print(\"Hasil Enkripsi:\", encrypted_text.hex())\n",
        "        elif choice == '2':\n",
        "            file_path = input(\"Masukkan path file teks yang akan dienkripsi: \")\n",
        "            with open(file_path, 'r') as file:\n",
        "                plaintext = file.read()\n",
        "                encrypted_text = encrypt(plaintext, key)\n",
        "                with open(\"encrypted_file.txt\", 'wb') as encrypted_file:\n",
        "                    encrypted_file.write(encrypted_text)\n",
        "                print(\"File berhasil dienkripsi.\")\n",
        "        elif choice == '3':\n",
        "            try:\n",
        "                with open(\"encrypted_file.txt\", 'rb') as encrypted_file:\n",
        "                    encrypted_text = encrypted_file.read()\n",
        "                    decrypted_text = decrypt(encrypted_text, key)\n",
        "                    print(\"Hasil Dekripsi:\", decrypted_text)\n",
        "            except FileNotFoundError:\n",
        "                print(\"File belum dienkripsi atau tidak ditemukan.\")\n",
        "        elif choice == '4':\n",
        "            print(\"Program selesai.\")\n",
        "            break\n",
        "        else:\n",
        "            print(\"Pilihan tidak valid. Silakan masukkan angka 1, 2, 3, atau 4.\")\n",
        "\n",
        "if __name__ == \"__main__\":\n",
        "    main()\n"
      ],
      "metadata": {
        "colab": {
          "base_uri": "https://localhost:8080/"
        },
        "id": "Nto5462itT9W",
        "outputId": "b6ffca10-833e-4f65-a191-0f6983442e30"
      },
      "execution_count": 2,
      "outputs": [
        {
          "output_type": "stream",
          "name": "stdout",
          "text": [
            "\n",
            "Menu:\n",
            "1. Enkripsi Teks\n",
            "2. Unggah File dan Enkripsi\n",
            "3. Unduh Hasil Enkripsi\n",
            "4. Keluar\n",
            "Pilih menu (1/2/3/4): 1\n",
            "Masukkan teks yang akan dienkripsi: ILMU KOMPUTER\n",
            "Hasil Enkripsi: 6d94cb124e59167833bba9d90e5e7a8c\n",
            "\n",
            "Menu:\n",
            "1. Enkripsi Teks\n",
            "2. Unggah File dan Enkripsi\n",
            "3. Unduh Hasil Enkripsi\n",
            "4. Keluar\n",
            "Pilih menu (1/2/3/4): 4\n",
            "Program selesai.\n"
          ]
        }
      ]
    }
  ]
}